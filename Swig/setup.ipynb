{
 "cells": [
  {
   "cell_type": "markdown",
   "id": "dc8afd66-35e2-430d-859f-c82897fe91b8",
   "metadata": {},
   "source": [
    "### Useful ..."
   ]
  },
  {
   "cell_type": "code",
   "execution_count": 1,
   "id": "592fbd3f",
   "metadata": {
    "execution": {
     "iopub.execute_input": "2022-06-01T21:50:29.727683Z",
     "iopub.status.busy": "2022-06-01T21:50:29.725965Z",
     "iopub.status.idle": "2022-06-01T21:50:29.821709Z",
     "shell.execute_reply": "2022-06-01T21:50:29.820336Z"
    }
   },
   "outputs": [
    {
     "name": "stdout",
     "output_type": "stream",
     "text": [
      "Linux 7905c004e797 5.10.47-linuxkit #1 SMP Sat Jul 3 21:51:47 UTC 2021 x86_64 x86_64 x86_64 GNU/Linux\n",
      "Wed 01 Jun 2022 09:50:29 PM UTC\n"
     ]
    },
    {
     "name": "stderr",
     "output_type": "stream",
     "text": [
      "bash: line 3: /home/jovyan/work/PyPhysX/Swig: Is a directory\n"
     ]
    },
    {
     "name": "stdout",
     "output_type": "stream",
     "text": [
      "g++ (Ubuntu 9.4.0-1ubuntu1~20.04.1) 9.4.0\n",
      "Copyright (C) 2019 Free Software Foundation, Inc.\n",
      "This is free software; see the source for copying conditions.  There is NO\n",
      "warranty; not even for MERCHANTABILITY or FITNESS FOR A PARTICULAR PURPOSE.\n",
      "\n",
      "cmake version 3.16.3\n",
      "\n",
      "CMake suite maintained and supported by Kitware (kitware.com/cmake).\n",
      "clang version 9.0.1-12 \n",
      "Target: x86_64-pc-linux-gnu\n",
      "Thread model: posix\n",
      "InstalledDir: /usr/bin\n",
      "Python 3.9.12\n"
     ]
    }
   ],
   "source": [
    "%%bash \n",
    "uname -a \n",
    "date\n",
    "${PWD}\n",
    "\n",
    "g++ --version \n",
    "cmake --version \n",
    "clang++-9 --version\n",
    "python3 --version"
   ]
  },
  {
   "cell_type": "markdown",
   "id": "a08ec390-eff0-4f66-b20c-480bc1ea8c49",
   "metadata": {},
   "source": [
    "### Setting up..."
   ]
  },
  {
   "cell_type": "code",
   "execution_count": 2,
   "id": "c14d64c2-6c2c-4c56-a4f5-d2b0a72d9ecc",
   "metadata": {
    "execution": {
     "iopub.execute_input": "2022-06-01T21:50:29.826839Z",
     "iopub.status.busy": "2022-06-01T21:50:29.826429Z",
     "iopub.status.idle": "2022-06-01T21:50:30.218185Z",
     "shell.execute_reply": "2022-06-01T21:50:30.217108Z"
    }
   },
   "outputs": [],
   "source": [
    "import re\n",
    "import requests\n",
    "import numpy\n",
    "\n",
    "np_version = re.compile(r'(?P<MAJOR>[0-9]+)\\.'\n",
    "                        '(?P<MINOR>[0-9]+)') \\\n",
    "                        .search(numpy.__version__)\n",
    "np_version_string = np_version.group()\n",
    "np_version_info = {key: int(value)\n",
    "                   for key, value in np_version.groupdict().items()}\n",
    "\n",
    "np_file_name = 'numpy.i'\n",
    "np_file_url = 'https://raw.githubusercontent.com/numpy/numpy/maintenance/' + \\\n",
    "              np_version_string + '.x/tools/swig/' + np_file_name\n",
    "if(np_version_info['MAJOR'] == 1 and np_version_info['MINOR'] < 9):\n",
    "    np_file_url = np_file_url.replace('tools', 'doc')\n",
    "\n",
    "chunk_size = 8196\n",
    "with open(np_file_name, 'wb') as file:\n",
    "    for chunk in requests.get(np_file_url,\n",
    "                              stream=True).iter_content(chunk_size):\n",
    "        file.write(chunk)"
   ]
  },
  {
   "cell_type": "code",
   "execution_count": 3,
   "id": "19890a49",
   "metadata": {
    "execution": {
     "iopub.execute_input": "2022-06-01T21:50:30.225466Z",
     "iopub.status.busy": "2022-06-01T21:50:30.223862Z",
     "iopub.status.idle": "2022-06-01T21:50:30.266267Z",
     "shell.execute_reply": "2022-06-01T21:50:30.265338Z"
    }
   },
   "outputs": [
    {
     "name": "stdout",
     "output_type": "stream",
     "text": [
      "[DOCKER] LIBRARIES\n",
      "total 13224\n",
      "drwxr-xr-x 1 jovyan root    4096 May 19 16:41 .\n",
      "drwxr-xr-x 1 jovyan root    4096 May 19 08:51 ..\n",
      "-rw-r--r-- 1 jovyan root 3641520 May 19 16:38 libPhysX_64.so\n",
      "-rw-r--r-- 1 jovyan root  197216 May 19 16:39 libPhysXCharacterKinematic_64.so\n",
      "-rw-r--r-- 1 jovyan root  271572 May 19 08:49 libPhysXCharacterKinematic_static_64.a\n",
      "-rw-r--r-- 1 jovyan root 1653344 May 19 16:34 libPhysXCommon_64.so\n",
      "-rw-r--r-- 1 jovyan root  294248 May 19 16:38 libPhysXCooking_64.so\n",
      "-rw-r--r-- 1 jovyan root 1826768 May 19 16:41 libPhysXExtensions_64.so\n",
      "-rw-r--r-- 1 jovyan root 2658990 May 19 08:51 libPhysXExtensions_static_64.a\n",
      "-rw-r--r-- 1 jovyan root   89536 May 19 16:31 libPhysXFoundation_64.so\n",
      "-rw-r--r-- 1 jovyan root  333856 May 19 16:31 libPhysXPvdSDK_64.so\n",
      "-rw-r--r-- 1 jovyan root  512040 May 19 08:41 libPhysXPvdSDK_static_64.a\n",
      "-rw-r--r-- 1 jovyan root  853352 May 19 16:39 libPhysXVehicle_64.so\n",
      "-rw-r--r-- 1 jovyan root 1165516 May 19 08:49 libPhysXVehicle_static_64.a\n",
      "[DOCKER] INCLUDES:\n",
      "/home/jovyan/work/physx/install/linux/PhysX/include/PxPhysicsAPI.h\n",
      "/home/jovyan/work/physx/install/linux/PxShared/include/foundation/Px.h\n"
     ]
    }
   ],
   "source": [
    "%%bash \n",
    "CHECKING()\n",
    "{ \n",
    "  echo \"[DOCKER] LIBRARIES\"\n",
    "  ls -la /home/jovyan/work/physx/install/linux/PhysXSO/bin/linux.clang/release/\n",
    "  \n",
    "  echo \"[DOCKER] INCLUDES:\"\n",
    "  ls /home/jovyan/work/physx/install/linux/PhysX/include/PxPhysicsAPI.h\n",
    "  ls /home/jovyan/work/physx/install/linux/PxShared/include/foundation/Px.h\n",
    "}\n",
    "\n",
    "CHECKING"
   ]
  },
  {
   "cell_type": "markdown",
   "id": "19c141f3-958c-4808-a567-b22ed3ef9e21",
   "metadata": {},
   "source": [
    "### Compiling..."
   ]
  },
  {
   "cell_type": "code",
   "execution_count": 4,
   "id": "10d986a1",
   "metadata": {
    "execution": {
     "iopub.execute_input": "2022-06-01T21:50:30.273398Z",
     "iopub.status.busy": "2022-06-01T21:50:30.272933Z",
     "iopub.status.idle": "2022-06-01T21:50:59.628277Z",
     "shell.execute_reply": "2022-06-01T21:50:59.626328Z"
    }
   },
   "outputs": [
    {
     "name": "stdout",
     "output_type": "stream",
     "text": [
      "-- The CXX compiler identification is GNU 9.4.0\n",
      "-- Check for working CXX compiler: /usr/bin/c++\n",
      "-- Check for working CXX compiler: /usr/bin/c++ -- works\n",
      "-- Detecting CXX compiler ABI info\n",
      "-- Detecting CXX compiler ABI info - done\n",
      "-- Detecting CXX compile features\n",
      "-- Detecting CXX compile features - done\n",
      "-- Found Python3: /opt/conda/bin/python3.9 (found version \"3.9.12\") found components: Interpreter Development \n",
      "-- Found SWIG: /opt/conda/bin/swig (found version \"4.0.2\") \n",
      "-- Configuring done\n",
      "-- Generating done\n",
      "-- Build files have been written to: /home/jovyan/work/PyPhysX/Swig/BUILD\n",
      "Scanning dependencies of target SWIG_fileName_swig_compilation\n",
      "[ 20%] Built target SWIG_fileName_swig_compilation\n",
      "Scanning dependencies of target LibraryName\n",
      "[ 60%] Built target LibraryName\n",
      "Scanning dependencies of target SWIG_fileName\n",
      "[100%] Built target SWIG_fileName\n",
      "CPU times: user 29.4 ms, sys: 26.2 ms, total: 55.6 ms\n",
      "Wall time: 29.3 s\n"
     ]
    }
   ],
   "source": [
    "%%time\n",
    "%%bash \n",
    "\n",
    "SIMULATION_RUN() \n",
    "{\n",
    "  rm -rf BUILD\n",
    "  mkdir BUILD\n",
    "  cd BUILD\n",
    "\n",
    "  cmake .. \\\n",
    "    -DCMAKE_RULE_MESSAGES=OFF \\\n",
    "    -DPHYSX_ROOT_DIR=/home/jovyan/work/physx/install/\n",
    "    \n",
    "  make\n",
    "\n",
    "  bash ../link.txt >> /dev/null\n",
    "}\n",
    "\n",
    "SIMULATION_RUN"
   ]
  },
  {
   "cell_type": "markdown",
   "id": "dde54384-c844-4f1a-a391-08dbabb9d305",
   "metadata": {},
   "source": [
    "## Testing..."
   ]
  },
  {
   "cell_type": "code",
   "execution_count": 5,
   "id": "0e60c35e-631e-4758-b808-b38275f3cabe",
   "metadata": {
    "execution": {
     "iopub.execute_input": "2022-06-01T21:50:59.638780Z",
     "iopub.status.busy": "2022-06-01T21:50:59.638358Z",
     "iopub.status.idle": "2022-06-01T21:50:59.663580Z",
     "shell.execute_reply": "2022-06-01T21:50:59.661633Z"
    },
    "tags": []
   },
   "outputs": [
    {
     "name": "stdout",
     "output_type": "stream",
     "text": [
      "Overwriting test.py\n"
     ]
    }
   ],
   "source": [
    "%%writefile test.py \n",
    "#import os; os.system(\"clear\")\n",
    "import numpy as np\n",
    "\n",
    "import sys; \n",
    "sys.path.append(\"./BUILD\")\n",
    "\n",
    "import swig_example\n",
    "\n",
    "## X.1. \n",
    "physx = swig_example.Physx() \n",
    "physx.Init()\n",
    "physx.Evolve()\n",
    "\n",
    "## X.1. \n",
    "Keys = swig_example.vectorc(physx.GetKeysSize()); \n",
    "physx.GetKeys(Keys)\n",
    "\n",
    "narray = physx.GetArraySize()\n",
    "Fields = {k:np.zeros(narray) for k in Keys}\n",
    "\n",
    "## X.1. \n",
    "nsteps = 3\n",
    "for istep in range(nsteps):\n",
    "    physx.Evolve()\n",
    "    for k in Fields.keys() : \n",
    "        physx.GetArray(k,Fields[k])\n",
    "    print(istep, Fields[\"px\"][0])\n",
    "      \n",
    "physx.CleanUp()"
   ]
  },
  {
   "cell_type": "code",
   "execution_count": 6,
   "id": "95316e53-e84d-4559-bf55-6a7cf8fbf82a",
   "metadata": {
    "execution": {
     "iopub.execute_input": "2022-06-01T21:50:59.675903Z",
     "iopub.status.busy": "2022-06-01T21:50:59.672991Z",
     "iopub.status.idle": "2022-06-01T21:51:01.144998Z",
     "shell.execute_reply": "2022-06-01T21:51:01.128697Z"
    }
   },
   "outputs": [
    {
     "name": "stdout",
     "output_type": "stream",
     "text": [
      "0 -20.000329971313477\n",
      "1 -20.000568389892578\n",
      "2 -20.000822067260742\n",
      "[Physx] Created\n",
      "[Physx] Init\n",
      "[Physx] CleanUp\n",
      "[Physx] End!!\n",
      "\n"
     ]
    }
   ],
   "source": [
    "%%bash \n",
    "TESTING()\n",
    "{\n",
    "  SWIG_PATH=/home/jovyan/work/PyPhysX/Swig\n",
    "  cd $SWIG_PATH\n",
    "\n",
    "  export LD_LIBRARY_PATH=${LD_LIBRARY_PATH}:/home/jovyan/work/physx/install/linux/PhysXSO/bin/linux.clang/release/\n",
    "  export LD_LIBRARY_PATH=${LD_LIBRARY_PATH}:${SWIG_PATH}/BUILD\n",
    "\n",
    "  python test.py\n",
    "}\n",
    "\n",
    "TESTING"
   ]
  },
  {
   "cell_type": "code",
   "execution_count": 7,
   "id": "9abb8528-8e9d-4dac-b513-fa2d891835e7",
   "metadata": {
    "execution": {
     "iopub.execute_input": "2022-06-01T21:51:01.201413Z",
     "iopub.status.busy": "2022-06-01T21:51:01.185889Z",
     "iopub.status.idle": "2022-06-01T21:51:02.239600Z",
     "shell.execute_reply": "2022-06-01T21:51:02.238124Z"
    }
   },
   "outputs": [
    {
     "name": "stdout",
     "output_type": "stream",
     "text": [
      "Wed 01 Jun 2022 09:51:02 PM UTC\r\n"
     ]
    }
   ],
   "source": [
    "!date"
   ]
  },
  {
   "cell_type": "raw",
   "id": "5efe8955-e765-4bd6-9df6-be4d626ef92b",
   "metadata": {},
   "source": []
  }
 ],
 "metadata": {
  "kernelspec": {
   "display_name": "Python 3 (ipykernel)",
   "language": "python",
   "name": "python3"
  },
  "language_info": {
   "codemirror_mode": {
    "name": "ipython",
    "version": 3
   },
   "file_extension": ".py",
   "mimetype": "text/x-python",
   "name": "python",
   "nbconvert_exporter": "python",
   "pygments_lexer": "ipython3",
   "version": "3.9.12"
  }
 },
 "nbformat": 4,
 "nbformat_minor": 5
}
